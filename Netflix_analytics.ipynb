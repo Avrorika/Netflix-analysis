{
  "cells": [
    {
      "cell_type": "code",
      "execution_count": null,
      "id": "5cb753b0",
      "metadata": {
        "execution": {
          "iopub.execute_input": "2022-02-16T08:01:49.956065Z",
          "iopub.status.busy": "2022-02-16T08:01:49.955257Z",
          "iopub.status.idle": "2022-02-16T08:01:51.021402Z",
          "shell.execute_reply": "2022-02-16T08:01:51.020546Z"
        },
        "id": "5cb753b0",
        "papermill": {
          "duration": 1.114327,
          "end_time": "2022-02-16T08:01:51.021567",
          "exception": false,
          "start_time": "2022-02-16T08:01:49.907240",
          "status": "completed"
        },
        "tags": []
      },
      "outputs": [],
      "source": [
        "import numpy as np\n",
        "import matplotlib.pyplot as plt\n",
        "import seaborn as sns\n",
        "import pandas as pd\n",
        "%matplotlib inline "
      ]
    },
    {
      "cell_type": "code",
      "source": [
        "data = pd.read_csv(\"netflix_data.csv\", encoding='cp437')\n",
        "del data['ratingDescription'], data['user rating size']"
      ],
      "metadata": {
        "id": "8g7PXeapaTJ5"
      },
      "id": "8g7PXeapaTJ5",
      "execution_count": null,
      "outputs": []
    },
    {
      "cell_type": "markdown",
      "id": "fb2543cc",
      "metadata": {
        "papermill": {
          "duration": null,
          "end_time": null,
          "exception": null,
          "start_time": null,
          "status": "pending"
        },
        "tags": [],
        "id": "fb2543cc"
      },
      "source": [
        "Cleaning of data"
      ]
    },
    {
      "cell_type": "code",
      "execution_count": null,
      "id": "e558d130",
      "metadata": {
        "id": "e558d130",
        "papermill": {
          "duration": null,
          "end_time": null,
          "exception": null,
          "start_time": null,
          "status": "pending"
        },
        "tags": []
      },
      "outputs": [],
      "source": [
        "data.isna().sum(axis=0)"
      ]
    },
    {
      "cell_type": "code",
      "execution_count": null,
      "id": "3475edaf",
      "metadata": {
        "id": "3475edaf",
        "papermill": {
          "duration": null,
          "end_time": null,
          "exception": null,
          "start_time": null,
          "status": "pending"
        },
        "tags": []
      },
      "outputs": [],
      "source": [
        "data.shape"
      ]
    },
    {
      "cell_type": "code",
      "execution_count": null,
      "id": "a2ccfab1",
      "metadata": {
        "id": "a2ccfab1",
        "papermill": {
          "duration": null,
          "end_time": null,
          "exception": null,
          "start_time": null,
          "status": "pending"
        },
        "tags": []
      },
      "outputs": [],
      "source": [
        "data_cleaned = data.drop_duplicates()\n",
        "data_cleaned.shape\n"
      ]
    },
    {
      "cell_type": "code",
      "execution_count": null,
      "id": "e119e3da",
      "metadata": {
        "id": "e119e3da",
        "papermill": {
          "duration": null,
          "end_time": null,
          "exception": null,
          "start_time": null,
          "status": "pending"
        },
        "tags": []
      },
      "outputs": [],
      "source": [
        "data_cleaned[\"title\"]"
      ]
    },
    {
      "cell_type": "code",
      "execution_count": null,
      "id": "6ba4c863",
      "metadata": {
        "id": "6ba4c863",
        "papermill": {
          "duration": null,
          "end_time": null,
          "exception": null,
          "start_time": null,
          "status": "pending"
        },
        "tags": []
      },
      "outputs": [],
      "source": [
        "data_cleaned.head(10)"
      ]
    },
    {
      "cell_type": "code",
      "execution_count": null,
      "id": "54002b20",
      "metadata": {
        "id": "54002b20",
        "papermill": {
          "duration": null,
          "end_time": null,
          "exception": null,
          "start_time": null,
          "status": "pending"
        },
        "tags": []
      },
      "outputs": [],
      "source": [
        "data_cleaned[\"rating\"].unique()\n"
      ]
    },
    {
      "cell_type": "code",
      "execution_count": null,
      "id": "aca6c03e",
      "metadata": {
        "id": "aca6c03e",
        "papermill": {
          "duration": null,
          "end_time": null,
          "exception": null,
          "start_time": null,
          "status": "pending"
        },
        "tags": []
      },
      "outputs": [],
      "source": [
        "d1= data_cleaned['user rating score'].fillna(data_cleaned['user rating score'].median())\n",
        "d1"
      ]
    },
    {
      "cell_type": "code",
      "execution_count": null,
      "id": "e9ed817c",
      "metadata": {
        "id": "e9ed817c",
        "papermill": {
          "duration": null,
          "end_time": null,
          "exception": null,
          "start_time": null,
          "status": "pending"
        },
        "tags": []
      },
      "outputs": [],
      "source": [
        "data_cleaned['user rating score'].mode()"
      ]
    },
    {
      "cell_type": "code",
      "execution_count": null,
      "id": "1bea6c06",
      "metadata": {
        "id": "1bea6c06",
        "papermill": {
          "duration": null,
          "end_time": null,
          "exception": null,
          "start_time": null,
          "status": "pending"
        },
        "tags": []
      },
      "outputs": [],
      "source": [
        "sns.set_style(\"whitegrid\")\n",
        "ax=data_cleaned[\"user rating score\"].plot(kind='hist', color=\"green\", alpha=0.5)\n",
        "ax.set_title(\"User rating score\", fontsize=15)\n",
        "ax.set_xlabel (\"score\")\n",
        "ax.set_ylabel (\"frequency\")\n",
        "plt.show()"
      ]
    },
    {
      "cell_type": "code",
      "execution_count": null,
      "id": "a148dc4d",
      "metadata": {
        "id": "a148dc4d",
        "papermill": {
          "duration": null,
          "end_time": null,
          "exception": null,
          "start_time": null,
          "status": "pending"
        },
        "tags": []
      },
      "outputs": [],
      "source": [
        "data_cleaned[\"user rating score\"].describe()\n"
      ]
    },
    {
      "cell_type": "code",
      "execution_count": null,
      "id": "3d948f8f",
      "metadata": {
        "id": "3d948f8f",
        "papermill": {
          "duration": null,
          "end_time": null,
          "exception": null,
          "start_time": null,
          "status": "pending"
        },
        "tags": []
      },
      "outputs": [],
      "source": [
        "d3=data_cleaned[\"release year\"].unique()\n",
        "np.sort(d3)"
      ]
    },
    {
      "cell_type": "code",
      "execution_count": null,
      "id": "a2583616",
      "metadata": {
        "id": "a2583616",
        "papermill": {
          "duration": null,
          "end_time": null,
          "exception": null,
          "start_time": null,
          "status": "pending"
        },
        "tags": []
      },
      "outputs": [],
      "source": [
        "plt.figure(figsize=(20, 8))\n",
        "ax= data_cleaned[\"release year\"].plot(kind='hist', color=\"red\", bins = 150)\n",
        "plt.xticks(np.arange(1940, 2021, 3))\n",
        "ax.set_title(\"Number of launched show by years\", fontsize=16)\n",
        "ax.set_xlabel (\"Years or release\", size=14)\n",
        "ax.set_ylabel (\"Number of shows\", size=14)\n",
        "plt.show()"
      ]
    },
    {
      "cell_type": "code",
      "execution_count": null,
      "id": "f38820a8",
      "metadata": {
        "id": "f38820a8",
        "papermill": {
          "duration": null,
          "end_time": null,
          "exception": null,
          "start_time": null,
          "status": "pending"
        },
        "tags": []
      },
      "outputs": [],
      "source": [
        "mean2016=data_cleaned[data_cleaned[\"release year\"]==2016][\"user rating score\"].mean()\n",
        "np.round(mean2016)"
      ]
    },
    {
      "cell_type": "code",
      "execution_count": null,
      "id": "9b0dfd1d",
      "metadata": {
        "id": "9b0dfd1d",
        "papermill": {
          "duration": null,
          "end_time": null,
          "exception": null,
          "start_time": null,
          "status": "pending"
        },
        "tags": []
      },
      "outputs": [],
      "source": [
        "mean2017=data_cleaned[data_cleaned[\"release year\"]==2017][\"user rating score\"].mean()\n",
        "np.round(mean2017)"
      ]
    },
    {
      "cell_type": "code",
      "execution_count": null,
      "id": "9c3cd1cc",
      "metadata": {
        "id": "9c3cd1cc",
        "papermill": {
          "duration": null,
          "end_time": null,
          "exception": null,
          "start_time": null,
          "status": "pending"
        },
        "tags": []
      },
      "outputs": [],
      "source": [
        "data_years=data_cleaned[(data_cleaned[\"release year\"]==2016 ) | (data_cleaned[\"release year\"]==2017)]\n",
        "data_years\n"
      ]
    },
    {
      "cell_type": "code",
      "execution_count": null,
      "id": "8805457a",
      "metadata": {
        "id": "8805457a",
        "papermill": {
          "duration": null,
          "end_time": null,
          "exception": null,
          "start_time": null,
          "status": "pending"
        },
        "tags": []
      },
      "outputs": [],
      "source": [
        "sns.set_style(\"whitegrid\")\n",
        "fig = plt.figure()\n",
        "ax = fig.add_axes([0,0,1,1])\n",
        "ax.bar(x=\"2016\",height =mean2016, color='r', alpha=0.7)\n",
        "ax.bar(x=\"2017\", height=mean2017, color='b', alpha=0.7)\n",
        "ax.set_ylabel('Points', size=14)\n",
        "ax.set_title('Viewrs points in 2016 and 2017', size=16)\n",
        "plt.show()"
      ]
    },
    {
      "cell_type": "code",
      "execution_count": null,
      "id": "4b3389c0",
      "metadata": {
        "id": "4b3389c0",
        "papermill": {
          "duration": null,
          "end_time": null,
          "exception": null,
          "start_time": null,
          "status": "pending"
        },
        "tags": []
      },
      "outputs": [],
      "source": [
        "raiting_percent=data_cleaned.groupby(\"rating\").count()\n",
        "df=raiting_percent[[\"title\"]]\n",
        "df"
      ]
    },
    {
      "cell_type": "code",
      "execution_count": null,
      "id": "b6b2faa6",
      "metadata": {
        "id": "b6b2faa6",
        "papermill": {
          "duration": null,
          "end_time": null,
          "exception": null,
          "start_time": null,
          "status": "pending"
        },
        "tags": []
      },
      "outputs": [],
      "source": [
        "df_sorted= df.sort_values(by=\"title\")\n",
        "df_sorted"
      ]
    },
    {
      "cell_type": "code",
      "execution_count": null,
      "id": "70cb5d15",
      "metadata": {
        "id": "70cb5d15",
        "papermill": {
          "duration": null,
          "end_time": null,
          "exception": null,
          "start_time": null,
          "status": "pending"
        },
        "tags": []
      },
      "outputs": [],
      "source": [
        "#задаем данные для графика\n",
        "data= df_sorted[\"title\"]\n",
        "#меняем размер графика\n",
        "plt.figure(figsize=(12, 11))\n",
        "#создаем диаграмму\n",
        "pallete= sns.set_palette(\"pastel\")\n",
        "plt.pie(data, labels = df_sorted.index, colors=pallete, textprops={'fontsize': 15}, pctdistance=0.8,  autopct='%1.1f%%')\n",
        "\n",
        "plt.title(\"Number of apperance in dataset\", fontsize=17);\n",
        "plt.show()"
      ]
    },
    {
      "cell_type": "markdown",
      "id": "dc475663",
      "metadata": {
        "id": "dc475663",
        "papermill": {
          "duration": null,
          "end_time": null,
          "exception": null,
          "start_time": null,
          "status": "pending"
        },
        "tags": []
      },
      "source": [
        "Let´s examin series Stranger things"
      ]
    },
    {
      "cell_type": "code",
      "execution_count": null,
      "id": "033a519e",
      "metadata": {
        "id": "033a519e",
        "papermill": {
          "duration": null,
          "end_time": null,
          "exception": null,
          "start_time": null,
          "status": "pending"
        },
        "tags": []
      },
      "outputs": [],
      "source": [
        "df_analysed = data_cleaned.loc[data_cleaned['title'] == \"Stranger Things\"]\n",
        "df_analysed"
      ]
    },
    {
      "cell_type": "markdown",
      "id": "5c61440e",
      "metadata": {
        "id": "5c61440e",
        "papermill": {
          "duration": null,
          "end_time": null,
          "exception": null,
          "start_time": null,
          "status": "pending"
        },
        "tags": []
      },
      "source": [
        "How many shows in total with raiting score 90"
      ]
    },
    {
      "cell_type": "code",
      "execution_count": null,
      "id": "3fe7a164",
      "metadata": {
        "id": "3fe7a164",
        "papermill": {
          "duration": null,
          "end_time": null,
          "exception": null,
          "start_time": null,
          "status": "pending"
        },
        "tags": []
      },
      "outputs": [],
      "source": [
        "data_cleaned.loc[data_cleaned[\"user rating score\"] == 90.0].count()"
      ]
    },
    {
      "cell_type": "markdown",
      "id": "20ad5905",
      "metadata": {
        "id": "20ad5905",
        "papermill": {
          "duration": null,
          "end_time": null,
          "exception": null,
          "start_time": null,
          "status": "pending"
        },
        "tags": []
      },
      "source": [
        "How many shows in total with raiting score more than 90"
      ]
    },
    {
      "cell_type": "code",
      "execution_count": null,
      "id": "3f7c0efb",
      "metadata": {
        "id": "3f7c0efb",
        "papermill": {
          "duration": null,
          "end_time": null,
          "exception": null,
          "start_time": null,
          "status": "pending"
        },
        "tags": []
      },
      "outputs": [],
      "source": [
        "data_cleaned.loc[data_cleaned[\"user rating score\"] > 90.0].count()"
      ]
    },
    {
      "cell_type": "markdown",
      "id": "04e71f65",
      "metadata": {
        "id": "04e71f65",
        "papermill": {
          "duration": null,
          "end_time": null,
          "exception": null,
          "start_time": null,
          "status": "pending"
        },
        "tags": []
      },
      "source": [
        "Сколько всего было шоу в 2016 году с рейтингом 90"
      ]
    },
    {
      "cell_type": "code",
      "execution_count": null,
      "id": "f3e95511",
      "metadata": {
        "id": "f3e95511",
        "papermill": {
          "duration": null,
          "end_time": null,
          "exception": null,
          "start_time": null,
          "status": "pending"
        },
        "tags": []
      },
      "outputs": [],
      "source": [
        "data_2016.loc[data_2016[\"user rating score\"] ==90.0]"
      ]
    },
    {
      "cell_type": "markdown",
      "id": "9a0764d9",
      "metadata": {
        "id": "9a0764d9",
        "papermill": {
          "duration": null,
          "end_time": null,
          "exception": null,
          "start_time": null,
          "status": "pending"
        },
        "tags": []
      },
      "source": [
        "How many shows in total with raiting score 90 in 2016"
      ]
    },
    {
      "cell_type": "code",
      "execution_count": null,
      "id": "3d421a08",
      "metadata": {
        "id": "3d421a08",
        "papermill": {
          "duration": null,
          "end_time": null,
          "exception": null,
          "start_time": null,
          "status": "pending"
        },
        "tags": []
      },
      "outputs": [],
      "source": [
        "data_2016.loc[data_2016[\"user rating score\"] > 90.0].count()"
      ]
    },
    {
      "cell_type": "markdown",
      "id": "cdee3720",
      "metadata": {
        "id": "cdee3720",
        "papermill": {
          "duration": null,
          "end_time": null,
          "exception": null,
          "start_time": null,
          "status": "pending"
        },
        "tags": []
      },
      "source": [
        "Data about all shows in 2016"
      ]
    },
    {
      "cell_type": "code",
      "execution_count": null,
      "id": "6f780fe8",
      "metadata": {
        "id": "6f780fe8",
        "papermill": {
          "duration": null,
          "end_time": null,
          "exception": null,
          "start_time": null,
          "status": "pending"
        },
        "tags": []
      },
      "outputs": [],
      "source": [
        "data_2016.head(5)"
      ]
    },
    {
      "cell_type": "code",
      "execution_count": null,
      "id": "9b715189",
      "metadata": {
        "id": "9b715189",
        "papermill": {
          "duration": null,
          "end_time": null,
          "exception": null,
          "start_time": null,
          "status": "pending"
        },
        "tags": []
      },
      "outputs": [],
      "source": [
        "data_2016= data_cleaned.loc[data_cleaned['release year'] == 2016]\n",
        "data_2016[\"title\"].count()"
      ]
    },
    {
      "cell_type": "code",
      "execution_count": null,
      "id": "248921b0",
      "metadata": {
        "id": "248921b0",
        "papermill": {
          "duration": null,
          "end_time": null,
          "exception": null,
          "start_time": null,
          "status": "pending"
        },
        "tags": []
      },
      "outputs": [],
      "source": [
        "data_2016[\"user rating score\"].describe()"
      ]
    },
    {
      "cell_type": "code",
      "execution_count": null,
      "id": "54857695",
      "metadata": {
        "id": "54857695",
        "papermill": {
          "duration": null,
          "end_time": null,
          "exception": null,
          "start_time": null,
          "status": "pending"
        },
        "tags": []
      },
      "outputs": [],
      "source": [
        "data_2016[\"user rating score\"].mode()"
      ]
    },
    {
      "cell_type": "markdown",
      "id": "24649c2e",
      "metadata": {
        "id": "24649c2e",
        "papermill": {
          "duration": null,
          "end_time": null,
          "exception": null,
          "start_time": null,
          "status": "pending"
        },
        "tags": []
      },
      "source": [
        "Data about all shows in 2016 in raiting TV-14"
      ]
    },
    {
      "cell_type": "code",
      "execution_count": null,
      "id": "ab7c5dc5",
      "metadata": {
        "id": "ab7c5dc5",
        "papermill": {
          "duration": null,
          "end_time": null,
          "exception": null,
          "start_time": null,
          "status": "pending"
        },
        "tags": []
      },
      "outputs": [],
      "source": [
        "data_2016_TV14= data_cleaned.loc[(data_cleaned['release year'] == 2016) & (data_cleaned['rating'] == \"TV-14\")]\n",
        "data_2016_TV14[\"title\"].count()"
      ]
    },
    {
      "cell_type": "code",
      "execution_count": null,
      "id": "f1704676",
      "metadata": {
        "id": "f1704676",
        "papermill": {
          "duration": null,
          "end_time": null,
          "exception": null,
          "start_time": null,
          "status": "pending"
        },
        "tags": []
      },
      "outputs": [],
      "source": [
        "data_2016_TV14.isna().sum(axis=0)"
      ]
    },
    {
      "cell_type": "code",
      "execution_count": null,
      "id": "700b0337",
      "metadata": {
        "id": "700b0337",
        "papermill": {
          "duration": null,
          "end_time": null,
          "exception": null,
          "start_time": null,
          "status": "pending"
        },
        "tags": []
      },
      "outputs": [],
      "source": [
        "data_2016_TV14[\"user rating score\"].describe()"
      ]
    },
    {
      "cell_type": "code",
      "execution_count": null,
      "id": "d8a49e5c",
      "metadata": {
        "id": "d8a49e5c",
        "papermill": {
          "duration": null,
          "end_time": null,
          "exception": null,
          "start_time": null,
          "status": "pending"
        },
        "tags": []
      },
      "outputs": [],
      "source": [
        "data_2016_TV14[\"user rating score\"].mode()"
      ]
    },
    {
      "cell_type": "markdown",
      "id": "ff9cdb09",
      "metadata": {
        "id": "ff9cdb09",
        "papermill": {
          "duration": null,
          "end_time": null,
          "exception": null,
          "start_time": null,
          "status": "pending"
        },
        "tags": []
      },
      "source": [
        "Data for all years in raiting TV-14"
      ]
    },
    {
      "cell_type": "code",
      "execution_count": null,
      "id": "5830e31d",
      "metadata": {
        "id": "5830e31d",
        "papermill": {
          "duration": null,
          "end_time": null,
          "exception": null,
          "start_time": null,
          "status": "pending"
        },
        "tags": []
      },
      "outputs": [],
      "source": [
        "data_TV14= data_cleaned.loc[data_cleaned['rating'] == \"TV-14\"]\n",
        "data_TV14.head(6)"
      ]
    },
    {
      "cell_type": "code",
      "execution_count": null,
      "id": "75f04de0",
      "metadata": {
        "id": "75f04de0",
        "papermill": {
          "duration": null,
          "end_time": null,
          "exception": null,
          "start_time": null,
          "status": "pending"
        },
        "tags": []
      },
      "outputs": [],
      "source": [
        "data_cleaned.loc[data_cleaned['rating'] == \"TV-14\"][\"title\"].count()"
      ]
    },
    {
      "cell_type": "code",
      "execution_count": null,
      "id": "dcec7608",
      "metadata": {
        "id": "dcec7608",
        "papermill": {
          "duration": null,
          "end_time": null,
          "exception": null,
          "start_time": null,
          "status": "pending"
        },
        "tags": []
      },
      "outputs": [],
      "source": [
        "data_TV14.isna().sum(axis=0)"
      ]
    },
    {
      "cell_type": "code",
      "execution_count": null,
      "id": "ef29679f",
      "metadata": {
        "id": "ef29679f",
        "papermill": {
          "duration": null,
          "end_time": null,
          "exception": null,
          "start_time": null,
          "status": "pending"
        },
        "tags": []
      },
      "outputs": [],
      "source": [
        "data_TV14[\"user rating score\"].describe()"
      ]
    },
    {
      "cell_type": "code",
      "execution_count": null,
      "id": "e31822fd",
      "metadata": {
        "id": "e31822fd",
        "papermill": {
          "duration": null,
          "end_time": null,
          "exception": null,
          "start_time": null,
          "status": "pending"
        },
        "tags": []
      },
      "outputs": [],
      "source": [
        "data_TV14[\"user rating score\"].mean()"
      ]
    },
    {
      "cell_type": "markdown",
      "id": "81e2d110",
      "metadata": {
        "id": "81e2d110",
        "papermill": {
          "duration": null,
          "end_time": null,
          "exception": null,
          "start_time": null,
          "status": "pending"
        },
        "tags": []
      },
      "source": [
        "Shows for other categories in 2016"
      ]
    },
    {
      "cell_type": "code",
      "execution_count": null,
      "id": "17832e6d",
      "metadata": {
        "id": "17832e6d",
        "papermill": {
          "duration": null,
          "end_time": null,
          "exception": null,
          "start_time": null,
          "status": "pending"
        },
        "tags": []
      },
      "outputs": [],
      "source": [
        "data_2016_others= data_cleaned.loc[(data_cleaned['release year'] == 2016) & (data_cleaned['rating'] != \"TV-14\") ]\n",
        "data_2016_others.head(5)"
      ]
    },
    {
      "cell_type": "code",
      "execution_count": null,
      "id": "1aac7de3",
      "metadata": {
        "id": "1aac7de3",
        "papermill": {
          "duration": null,
          "end_time": null,
          "exception": null,
          "start_time": null,
          "status": "pending"
        },
        "tags": []
      },
      "outputs": [],
      "source": [
        "plt.figure(figsize=(8, 6))\n",
        "plt.suptitle('Rating comparision TV14',size =16)\n",
        "data_TV14[\"user rating score\"].plot(kind='hist', color=\"yellow\", label= \"all years\", alpha=0.5)\n",
        "data_2016_TV14[\"user rating score\"].plot(kind='hist', color=\"green\", label= \"2016\",alpha=0.5)\n",
        "\n",
        "plt.grid()\n",
        "plt.xlabel (\"score\")\n",
        "plt.ylabel (\"frequency\")\n",
        "plt.legend()\n",
        "plt.show()"
      ]
    },
    {
      "cell_type": "code",
      "execution_count": null,
      "id": "6ea4cc09",
      "metadata": {
        "id": "6ea4cc09",
        "papermill": {
          "duration": null,
          "end_time": null,
          "exception": null,
          "start_time": null,
          "status": "pending"
        },
        "tags": []
      },
      "outputs": [],
      "source": [
        "fig, axes = plt.subplots(1, 2, figsize=(10,5))\n",
        "fig.suptitle('Number of shows launched', size =16)\n",
        "\n",
        "axes[0].bar(x=\"All shows 2016\",height =data_2016[\"title\"].count(), color='y')\n",
        "axes[0].bar(x=\"TV14 2016\", height=data_2016_TV14[\"title\"].count(), color='r')\n",
        "axes[0].set_title(\"All shows 2016 \\ TV14 shows 2016 \")\n",
        "\n",
        "axes[1].bar(x=\"All years TV14\",height =data_TV14[\"title\"].count(), color='y')\n",
        "axes[1].bar(x=\"2016 TV14\", height=data_2016_TV14[\"title\"].count(), color='r')\n",
        "axes[1].set_title(\"All years TV14 \\ 2016 TV14 shows\")\n",
        "\n",
        "plt.show()\n"
      ]
    },
    {
      "cell_type": "code",
      "execution_count": null,
      "id": "df7c3443",
      "metadata": {
        "id": "df7c3443",
        "papermill": {
          "duration": null,
          "end_time": null,
          "exception": null,
          "start_time": null,
          "status": "pending"
        },
        "tags": []
      },
      "outputs": [],
      "source": [
        "fig, axes = plt.subplots(1, 4, figsize=(20,5))\n",
        "fig.suptitle('Comparision of Stranger things rating with the average rating of other TV shows',y=-0.01, size =16)\n",
        "\n",
        "axes[0].bar(x=\"Stranger things\",height =df_analysed[\"user rating score\"], color='y', alpha=0.5)\n",
        "axes[0].bar(x=\"TV-14 2016\", height=data_2016_TV14[\"user rating score\"].mean(), color='b', alpha=0.5)\n",
        "axes[0].set_title(\"With average \\n rating of TV14 shows 2016\")\n",
        "\n",
        "axes[1].bar(x=\"Stranger things\",height =df_analysed[\"user rating score\"], color='y', alpha=0.5)\n",
        "axes[1].bar(x=\"TV14 1940-2017\", height=data_TV14[\"user rating score\"].mean(), color='b', alpha=0.5)\n",
        "axes[1].set_title(\"With average \\n rating of TV14 all years\")\n",
        "\n",
        "\n",
        "axes[2].bar(x=\"Stranger things\",height =df_analysed[\"user rating score\"], color='y', alpha=0.5)\n",
        "axes[2].bar(x=\"Shows in 2016\", height=data_2016[\"user rating score\"].mean(), color='b', alpha=0.5)\n",
        "axes[2].set_title(\"With average \\n rating of all shows 2016\")\n",
        "\n",
        "axes[3].bar(x=\"Stranger things\",height =df_analysed[\"user rating score\"], color='y', alpha=0.5)\n",
        "axes[3].bar(x=\"Shows in 1940- 2017\", height=data_cleaned[\"user rating score\"].mean(), color='b', alpha=0.5)\n",
        "axes[3].set_title(\"With average \\n rating of all shows\")\n",
        "plt.show()\n"
      ]
    }
  ],
  "metadata": {
    "kernelspec": {
      "display_name": "Python 3",
      "language": "python",
      "name": "python3"
    },
    "language_info": {
      "codemirror_mode": {
        "name": "ipython",
        "version": 3
      },
      "file_extension": ".py",
      "mimetype": "text/x-python",
      "name": "python",
      "nbconvert_exporter": "python",
      "pygments_lexer": "ipython3",
      "version": "3.7.12"
    },
    "papermill": {
      "default_parameters": {},
      "duration": 12.139639,
      "end_time": "2022-02-16T08:01:51.956162",
      "environment_variables": {},
      "exception": true,
      "input_path": "__notebook__.ipynb",
      "output_path": "__notebook__.ipynb",
      "parameters": {},
      "start_time": "2022-02-16T08:01:39.816523",
      "version": "2.3.3"
    },
    "colab": {
      "name": "netflix-analytics.ipynb",
      "provenance": []
    }
  },
  "nbformat": 4,
  "nbformat_minor": 5
}